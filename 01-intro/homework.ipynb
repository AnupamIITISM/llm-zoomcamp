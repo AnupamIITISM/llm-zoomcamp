{
 "cells": [
  {
   "cell_type": "code",
   "execution_count": 7,
   "id": "e135d050-1f4d-434c-be21-d6989f1a59d3",
   "metadata": {},
   "outputs": [],
   "source": [
    "import openai"
   ]
  },
  {
   "cell_type": "code",
   "execution_count": 8,
   "id": "ecafe02d-2048-4a84-8eeb-156aeb7f8d1b",
   "metadata": {},
   "outputs": [],
   "source": [
    "from openai import OpenAI"
   ]
  },
  {
   "cell_type": "code",
   "execution_count": 9,
   "id": "bc5ca5fe-0849-4c36-9623-ed4e86b31535",
   "metadata": {},
   "outputs": [],
   "source": [
    "client=OpenAI()"
   ]
  },
  {
   "cell_type": "code",
   "execution_count": null,
   "id": "eff4a938",
   "metadata": {},
   "outputs": [],
   "source": [
    "import os"
   ]
  },
  {
   "cell_type": "code",
   "execution_count": 11,
   "id": "4f453104-7712-4a46-9a5c-3105eeb0c885",
   "metadata": {},
   "outputs": [],
   "source": [
    "response = client.chat.completions.create(\n",
    "    model='gpt-4o',\n",
    "    messages=[{\"role\": \"user\", \"content\":\"is it too late to join the course?\"}]\n",
    ")"
   ]
  },
  {
   "cell_type": "code",
   "execution_count": 18,
   "id": "49818e90-ca7d-4362-817b-219211ce4df0",
   "metadata": {},
   "outputs": [
    {
     "data": {
      "text/plain": [
       "\"It's hard to say definitively whether it's too late to join the course since specific details about the course, such as the start date, deadlines, and the policies of the institution offering it, aren't provided. Here are some steps you can take to find out:\\n\\n1. **Check the Course Details:** Look for information on the course website or the institution’s academic calendar to see if there are any enrollment deadlines.\\n  \\n2. **Contact the Instructor or Institution:** Reach out to the course instructor or the admissions office. They can provide specific information regarding late enrollment policies and deadlines.\\n\\n3. **Review Prerequisites:** Ensure you meet any prerequisites or requirements that are needed to join the course.\\n\\n4. **Consider Impact on Learning:** If the course has already begun, assess whether you will be able to catch up on the missed material and participate effectively.\\n\\nIf you find that it is too late to join, you might consider looking into the course's next offering or exploring similar courses.\\n\\nGood luck!\""
      ]
     },
     "execution_count": 18,
     "metadata": {},
     "output_type": "execute_result"
    }
   ],
   "source": [
    "response.choices[0].message.content"
   ]
  },
  {
   "cell_type": "code",
   "execution_count": null,
   "id": "77f9c3b5-95d1-4042-9f5e-26ce39b1e892",
   "metadata": {},
   "outputs": [],
   "source": []
  }
 ],
 "metadata": {
  "kernelspec": {
   "display_name": "Python 3 (ipykernel)",
   "language": "python",
   "name": "python3"
  },
  "language_info": {
   "codemirror_mode": {
    "name": "ipython",
    "version": 3
   },
   "file_extension": ".py",
   "mimetype": "text/x-python",
   "name": "python",
   "nbconvert_exporter": "python",
   "pygments_lexer": "ipython3",
   "version": "3.10.13"
  }
 },
 "nbformat": 4,
 "nbformat_minor": 5
}
